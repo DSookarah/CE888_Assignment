{
  "nbformat": 4,
  "nbformat_minor": 0,
  "metadata": {
    "colab": {
      "name": "CE888-Preprocessing.ipynb",
      "provenance": [],
      "collapsed_sections": [],
      "authorship_tag": "ABX9TyPux937H1NFHXu7glwpXRar",
      "include_colab_link": true
    },
    "kernelspec": {
      "name": "python3",
      "display_name": "Python 3"
    },
    "language_info": {
      "name": "python"
    }
  },
  "cells": [
    {
      "cell_type": "markdown",
      "metadata": {
        "id": "view-in-github",
        "colab_type": "text"
      },
      "source": [
        "<a href=\"https://colab.research.google.com/github/DSookarah/CE888_Assignment/blob/main/CE888_Preprocessing.ipynb\" target=\"_parent\"><img src=\"https://colab.research.google.com/assets/colab-badge.svg\" alt=\"Open In Colab\"/></a>"
      ]
    },
    {
      "cell_type": "code",
      "metadata": {
        "id": "4p6qSIRmtkQz",
        "colab": {
          "base_uri": "https://localhost:8080/"
        },
        "outputId": "3aefcc79-86a0-410f-b671-8d7f3e7a95ed"
      },
      "source": [
        "# Installing and importing all necessary librairies \n",
        "\n",
        "!pip install tweet-preprocessor 2>/dev/null 1>/dev/null\n",
        "\n",
        "!pip install transformers\n",
        "import preprocessor as p\n",
        "import numpy as np \n",
        "import pandas as pd "
      ],
      "execution_count": 4,
      "outputs": [
        {
          "output_type": "stream",
          "text": [
            "Requirement already satisfied: transformers in /usr/local/lib/python3.7/dist-packages (4.5.1)\n",
            "Requirement already satisfied: packaging in /usr/local/lib/python3.7/dist-packages (from transformers) (20.9)\n",
            "Requirement already satisfied: numpy>=1.17 in /usr/local/lib/python3.7/dist-packages (from transformers) (1.19.5)\n",
            "Requirement already satisfied: tokenizers<0.11,>=0.10.1 in /usr/local/lib/python3.7/dist-packages (from transformers) (0.10.2)\n",
            "Requirement already satisfied: tqdm>=4.27 in /usr/local/lib/python3.7/dist-packages (from transformers) (4.41.1)\n",
            "Requirement already satisfied: importlib-metadata; python_version < \"3.8\" in /usr/local/lib/python3.7/dist-packages (from transformers) (3.10.1)\n",
            "Requirement already satisfied: requests in /usr/local/lib/python3.7/dist-packages (from transformers) (2.23.0)\n",
            "Requirement already satisfied: regex!=2019.12.17 in /usr/local/lib/python3.7/dist-packages (from transformers) (2019.12.20)\n",
            "Requirement already satisfied: sacremoses in /usr/local/lib/python3.7/dist-packages (from transformers) (0.0.45)\n",
            "Requirement already satisfied: filelock in /usr/local/lib/python3.7/dist-packages (from transformers) (3.0.12)\n",
            "Requirement already satisfied: pyparsing>=2.0.2 in /usr/local/lib/python3.7/dist-packages (from packaging->transformers) (2.4.7)\n",
            "Requirement already satisfied: zipp>=0.5 in /usr/local/lib/python3.7/dist-packages (from importlib-metadata; python_version < \"3.8\"->transformers) (3.4.1)\n",
            "Requirement already satisfied: typing-extensions>=3.6.4; python_version < \"3.8\" in /usr/local/lib/python3.7/dist-packages (from importlib-metadata; python_version < \"3.8\"->transformers) (3.7.4.3)\n",
            "Requirement already satisfied: urllib3!=1.25.0,!=1.25.1,<1.26,>=1.21.1 in /usr/local/lib/python3.7/dist-packages (from requests->transformers) (1.24.3)\n",
            "Requirement already satisfied: certifi>=2017.4.17 in /usr/local/lib/python3.7/dist-packages (from requests->transformers) (2020.12.5)\n",
            "Requirement already satisfied: idna<3,>=2.5 in /usr/local/lib/python3.7/dist-packages (from requests->transformers) (2.10)\n",
            "Requirement already satisfied: chardet<4,>=3.0.2 in /usr/local/lib/python3.7/dist-packages (from requests->transformers) (3.0.4)\n",
            "Requirement already satisfied: joblib in /usr/local/lib/python3.7/dist-packages (from sacremoses->transformers) (1.0.1)\n",
            "Requirement already satisfied: six in /usr/local/lib/python3.7/dist-packages (from sacremoses->transformers) (1.15.0)\n",
            "Requirement already satisfied: click in /usr/local/lib/python3.7/dist-packages (from sacremoses->transformers) (7.1.2)\n"
          ],
          "name": "stdout"
        }
      ]
    },
    {
      "cell_type": "code",
      "metadata": {
        "id": "hzbE7dHX9Loh"
      },
      "source": [
        "# Importing the datasets (e.g. emotion) and then assigning headers to the columns\n",
        "\n",
        "train_data=pd.read_csv('https://raw.githubusercontent.com/cardiffnlp/tweeteval/main/datasets/emotion/train_text.txt', delimiter='\\t') \n",
        "test_data=pd.read_csv('https://raw.githubusercontent.com/cardiffnlp/tweeteval/main/datasets/emotion/test_text.txt', delimiter='\\t') \n",
        "train_labels= pd.read_csv('https://raw.githubusercontent.com/cardiffnlp/tweeteval/main/datasets/emotion/train_labels.txt', delimiter='\\t') \n",
        "test_labels= pd.read_csv('https://raw.githubusercontent.com/cardiffnlp/tweeteval/main/datasets/emotion/test_labels.txt', delimiter='\\t') \n",
        "train_data.columns=['Tweet']\n",
        "test_data.columns=['Tweet']\n",
        "train_labels.columns=['Emotion']\n",
        "test_labels.columns=['Emotion']\n",
        "#test_labels.head(10)"
      ],
      "execution_count": 5,
      "outputs": []
    },
    {
      "cell_type": "code",
      "metadata": {
        "id": "3M9PZJ-89_1b"
      },
      "source": [
        "# Using the aspell txt file for correcting the misspelling of words in the tweets\n",
        "misspell_data = pd.read_csv(\"/aspell.txt\",sep=\":\",names=[\"correction\",\"misspell\"])\n",
        "misspell_data.misspell = misspell_data.misspell.str.strip()\n",
        "misspell_data.misspell = misspell_data.misspell.str.split(\" \")\n",
        "misspell_data = misspell_data.explode(\"misspell\").reset_index(drop=True)\n",
        "misspell_data.drop_duplicates(\"misspell\",inplace=True)\n",
        "miss_corr = dict(zip(misspell_data.misspell, misspell_data.correction))\n",
        "\n",
        "# The misspelled correction function to correct the words\n",
        "\n",
        "def misspelled_correction(val):\n",
        "    for x in val.split(): \n",
        "        if x in miss_corr.keys(): \n",
        "            val = val.replace(miss_corr[x],x) \n",
        "    return val\n",
        "\n",
        "train_data[\"cleaned\"] = train_data.Tweet.apply(lambda x : misspelled_correction(x))\n",
        "test_data[\"cleaned\"] = test_data.Tweet.apply(lambda x : misspelled_correction(x))\n",
        "#test_data.head(10)"
      ],
      "execution_count": 6,
      "outputs": []
    },
    {
      "cell_type": "code",
      "metadata": {
        "id": "uZnMCtqb-Wra"
      },
      "source": [
        "# Getting rid of contractions\n",
        "\n",
        "contractions = pd.read_csv(\"/contractions.csv\")\n",
        "cont_dic = dict(zip(contractions.Contraction, contractions.Meaning))\n",
        "\n",
        "# Defining function to change contractions\n",
        "\n",
        "def cont_to_meaning(val): \n",
        "  \n",
        "    for x in val.split(): \n",
        "        if x in cont_dic.keys(): \n",
        "            val = val.replace(x, cont_dic[x]) \n",
        "    return val\n",
        "\n",
        "# Expanding uppercase and lowercase contractions\n",
        "\n",
        "train_data.cleaned = train_data.cleaned.apply(lambda x : cont_to_meaning(x))\n",
        "test_data.cleaned = test_data.cleaned.apply(lambda x : cont_to_meaning(x))\n",
        "#test_data.head(10)\n",
        "train_data['cleaned']=train_data['cleaned'].apply(lambda x: x.lower())\n",
        "test_data['cleaned']=test_data['cleaned'].apply(lambda x: x.lower())\n",
        "train_data.cleaned = train_data.cleaned.apply(lambda x : cont_to_meaning(x))\n",
        "test_data.cleaned = test_data.cleaned.apply(lambda x : cont_to_meaning(x))\n",
        "#train_data.head(10)"
      ],
      "execution_count": 7,
      "outputs": []
    },
    {
      "cell_type": "code",
      "metadata": {
        "id": "SeyIGJcJv97f"
      },
      "source": [
        "# Getting rid of user mentions and URLs\n",
        "\n",
        "p.set_options(p.OPT.MENTION, p.OPT.URL)\n",
        "train_data[\"cleaned\"]=train_data.cleaned.apply(lambda x : p.clean(x))\n",
        "test_data[\"cleaned\"]=test_data.cleaned.apply(lambda x : p.clean(x))\n",
        "#train_data.head(10)\n",
        "\n",
        "\n",
        "# Defining the function that will be used to remove punctuation\n",
        "\n",
        "def punctuation(val): \n",
        "  \n",
        "    punctuations = '''?!()-[]{};:'\"\\,<>./@#$%^&_~'''\n",
        "  \n",
        "    for x in val.lower(): \n",
        "        if x in punctuations: \n",
        "            val = val.replace(x, \" \") \n",
        "    return val\n",
        "train_data[\"cleaned\"]=train_data.cleaned.apply(lambda x : punctuation(x))\n",
        "test_data[\"cleaned\"]=test_data.cleaned.apply(lambda x : punctuation(x))\n"
      ],
      "execution_count": 8,
      "outputs": []
    },
    {
      "cell_type": "code",
      "metadata": {
        "colab": {
          "base_uri": "https://localhost:8080/",
          "height": 335
        },
        "id": "WMdD9sQm-1oH",
        "outputId": "cf328d83-135e-40bf-8cdb-3e48345985b5"
      },
      "source": [
        "# Checking the final output of the 'cleaned' data\n",
        "test_data.head(10)"
      ],
      "execution_count": 9,
      "outputs": [
        {
          "output_type": "execute_result",
          "data": {
            "text/html": [
              "<div>\n",
              "<style scoped>\n",
              "    .dataframe tbody tr th:only-of-type {\n",
              "        vertical-align: middle;\n",
              "    }\n",
              "\n",
              "    .dataframe tbody tr th {\n",
              "        vertical-align: top;\n",
              "    }\n",
              "\n",
              "    .dataframe thead th {\n",
              "        text-align: right;\n",
              "    }\n",
              "</style>\n",
              "<table border=\"1\" class=\"dataframe\">\n",
              "  <thead>\n",
              "    <tr style=\"text-align: right;\">\n",
              "      <th></th>\n",
              "      <th>Tweet</th>\n",
              "      <th>cleaned</th>\n",
              "    </tr>\n",
              "  </thead>\n",
              "  <tbody>\n",
              "    <tr>\n",
              "      <th>0</th>\n",
              "      <td>@user Interesting choice of words... Are you c...</td>\n",
              "      <td>interesting choice of words    are you confirm...</td>\n",
              "    </tr>\n",
              "    <tr>\n",
              "      <th>1</th>\n",
              "      <td>My visit to hospital for care triggered #traum...</td>\n",
              "      <td>my visit to hospital for care triggered  traum...</td>\n",
              "    </tr>\n",
              "    <tr>\n",
              "      <th>2</th>\n",
              "      <td>@user Welcome to #MPSVT! We are delighted to h...</td>\n",
              "      <td>welcome to  mpsvt  we are delighted to have yo...</td>\n",
              "    </tr>\n",
              "    <tr>\n",
              "      <th>3</th>\n",
              "      <td>What makes you feel #joyful?</td>\n",
              "      <td>what makes you feel  joyful</td>\n",
              "    </tr>\n",
              "    <tr>\n",
              "      <th>4</th>\n",
              "      <td>i am revolting.</td>\n",
              "      <td>i am revolting</td>\n",
              "    </tr>\n",
              "    <tr>\n",
              "      <th>5</th>\n",
              "      <td>Rin might ever appeared gloomy but to be a mel...</td>\n",
              "      <td>rin might ever appeared gloomy but to be a mel...</td>\n",
              "    </tr>\n",
              "    <tr>\n",
              "      <th>6</th>\n",
              "      <td>In need of a change! #restless</td>\n",
              "      <td>in need of a change   restless</td>\n",
              "    </tr>\n",
              "    <tr>\n",
              "      <th>7</th>\n",
              "      <td>@user @user #cmbyn does screen  August 4 &amp;amp;...</td>\n",
              "      <td>cmbyn does screen august 4  amp  6 at  miff</td>\n",
              "    </tr>\n",
              "    <tr>\n",
              "      <th>8</th>\n",
              "      <td>@user Get Donovan out of your soccer booth. He...</td>\n",
              "      <td>get donovan out of your soccer booth  he is aw...</td>\n",
              "    </tr>\n",
              "    <tr>\n",
              "      <th>9</th>\n",
              "      <td>@user how can u have sold so many copies but u...</td>\n",
              "      <td>how can u have sold so many copies but ur game...</td>\n",
              "    </tr>\n",
              "  </tbody>\n",
              "</table>\n",
              "</div>"
            ],
            "text/plain": [
              "                                               Tweet                                            cleaned\n",
              "0  @user Interesting choice of words... Are you c...  interesting choice of words    are you confirm...\n",
              "1  My visit to hospital for care triggered #traum...  my visit to hospital for care triggered  traum...\n",
              "2  @user Welcome to #MPSVT! We are delighted to h...  welcome to  mpsvt  we are delighted to have yo...\n",
              "3                      What makes you feel #joyful?                        what makes you feel  joyful \n",
              "4                                   i am revolting.                                     i am revolting \n",
              "5  Rin might ever appeared gloomy but to be a mel...  rin might ever appeared gloomy but to be a mel...\n",
              "6                    In need of a change! #restless                      in need of a change   restless\n",
              "7  @user @user #cmbyn does screen  August 4 &amp;...        cmbyn does screen august 4  amp  6 at  miff\n",
              "8  @user Get Donovan out of your soccer booth. He...  get donovan out of your soccer booth  he is aw...\n",
              "9  @user how can u have sold so many copies but u...  how can u have sold so many copies but ur game..."
            ]
          },
          "metadata": {
            "tags": []
          },
          "execution_count": 9
        }
      ]
    }
  ]
}